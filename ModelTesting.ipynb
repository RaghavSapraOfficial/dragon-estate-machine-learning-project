{
 "cells": [
  {
   "cell_type": "code",
   "execution_count": 1,
   "id": "00725785-9834-4439-a47c-d2a851b78950",
   "metadata": {},
   "outputs": [],
   "source": [
    "from joblib import dump,load"
   ]
  },
  {
   "cell_type": "code",
   "execution_count": 2,
   "id": "e4c89ade-e009-4750-87af-cb4e8cbf41c1",
   "metadata": {},
   "outputs": [],
   "source": [
    "model = load('Dragon.joblib')"
   ]
  },
  {
   "cell_type": "code",
   "execution_count": 3,
   "id": "5303edc9-9c6d-4d81-8157-9297e11892d3",
   "metadata": {},
   "outputs": [],
   "source": [
    "import numpy as np"
   ]
  },
  {
   "cell_type": "code",
   "execution_count": 6,
   "id": "e82e234d-559f-447c-92a0-351d2df0d6ba",
   "metadata": {},
   "outputs": [],
   "source": [
    "input = np.array([[2.4980e-02, 0.0000e+00, 1.8900e+00, 0.0000e+00, 5.1800e-01,\n",
    "        6.5400e+00, 5.9700e+01, 6.2669e+00, 1.0000e+00, 4.2200e+02,\n",
    "        1.5900e+01, 3.8996e+02, 8.6500e+00]])"
   ]
  },
  {
   "cell_type": "code",
   "execution_count": 7,
   "id": "1129ecc8-2922-4e0e-aac1-b16bda9b11a6",
   "metadata": {},
   "outputs": [
    {
     "data": {
      "text/plain": [
       "array([[2.4980e-02, 0.0000e+00, 1.8900e+00, 0.0000e+00, 5.1800e-01,\n",
       "        6.5400e+00, 5.9700e+01, 6.2669e+00, 1.0000e+00, 4.2200e+02,\n",
       "        1.5900e+01, 3.8996e+02, 8.6500e+00]])"
      ]
     },
     "execution_count": 7,
     "metadata": {},
     "output_type": "execute_result"
    }
   ],
   "source": [
    "input"
   ]
  },
  {
   "cell_type": "code",
   "execution_count": 8,
   "id": "68228d6d-fc1c-4e1c-9215-dca89f601ae2",
   "metadata": {},
   "outputs": [
    {
     "data": {
      "text/plain": [
       "array([23.936])"
      ]
     },
     "execution_count": 8,
     "metadata": {},
     "output_type": "execute_result"
    }
   ],
   "source": [
    "model.predict(input)"
   ]
  },
  {
   "cell_type": "code",
   "execution_count": null,
   "id": "fce76530-8214-4263-a22f-1345c24b16bb",
   "metadata": {},
   "outputs": [],
   "source": []
  }
 ],
 "metadata": {
  "kernelspec": {
   "display_name": "Python 3 (ipykernel)",
   "language": "python",
   "name": "python3"
  },
  "language_info": {
   "codemirror_mode": {
    "name": "ipython",
    "version": 3
   },
   "file_extension": ".py",
   "mimetype": "text/x-python",
   "name": "python",
   "nbconvert_exporter": "python",
   "pygments_lexer": "ipython3",
   "version": "3.11.4"
  }
 },
 "nbformat": 4,
 "nbformat_minor": 5
}
